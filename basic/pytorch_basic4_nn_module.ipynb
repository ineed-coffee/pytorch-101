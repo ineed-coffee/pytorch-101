{
  "nbformat": 4,
  "nbformat_minor": 0,
  "metadata": {
    "colab": {
      "name": "pytorch basic4 : nn module.ipynb",
      "provenance": [],
      "collapsed_sections": [],
      "authorship_tag": "ABX9TyN/QQ450wFACtU2MipzhtMD",
      "include_colab_link": true
    },
    "kernelspec": {
      "name": "python3",
      "display_name": "Python 3"
    },
    "language_info": {
      "name": "python"
    },
    "accelerator": "GPU"
  },
  "cells": [
    {
      "cell_type": "markdown",
      "metadata": {
        "id": "view-in-github",
        "colab_type": "text"
      },
      "source": [
        "<a href=\"https://colab.research.google.com/github/ineed-coffee/pytorch-101/blob/main/basic/pytorch_basic4_nn_module.ipynb\" target=\"_parent\"><img src=\"https://colab.research.google.com/assets/colab-badge.svg\" alt=\"Open In Colab\"/></a>"
      ]
    },
    {
      "cell_type": "code",
      "metadata": {
        "colab": {
          "base_uri": "https://localhost:8080/"
        },
        "id": "14_15jz1Y5ci",
        "outputId": "8f51b9f2-e3ff-44f1-d546-90c2d40fcea7"
      },
      "source": [
        "from google.colab import drive\n",
        "drive.mount('/content/drive')"
      ],
      "execution_count": null,
      "outputs": [
        {
          "output_type": "stream",
          "text": [
            "Mounted at /content/drive\n"
          ],
          "name": "stdout"
        }
      ]
    },
    {
      "cell_type": "markdown",
      "metadata": {
        "id": "b1lJAliTC-36"
      },
      "source": [
        "### 연결된 그래픽 카드와 CUDA 버전 확인하기"
      ]
    },
    {
      "cell_type": "code",
      "metadata": {
        "colab": {
          "base_uri": "https://localhost:8080/"
        },
        "id": "fuew_O1NDW3M",
        "outputId": "5e0539bc-3de2-405d-8cd7-471cbba89055"
      },
      "source": [
        "!nvidia-smi"
      ],
      "execution_count": null,
      "outputs": [
        {
          "output_type": "stream",
          "text": [
            "Sun Apr 11 07:45:10 2021       \n",
            "+-----------------------------------------------------------------------------+\n",
            "| NVIDIA-SMI 460.67       Driver Version: 460.32.03    CUDA Version: 11.2     |\n",
            "|-------------------------------+----------------------+----------------------+\n",
            "| GPU  Name        Persistence-M| Bus-Id        Disp.A | Volatile Uncorr. ECC |\n",
            "| Fan  Temp  Perf  Pwr:Usage/Cap|         Memory-Usage | GPU-Util  Compute M. |\n",
            "|                               |                      |               MIG M. |\n",
            "|===============================+======================+======================|\n",
            "|   0  Tesla T4            Off  | 00000000:00:04.0 Off |                    0 |\n",
            "| N/A   68C    P8    11W /  70W |      0MiB / 15109MiB |      0%      Default |\n",
            "|                               |                      |                  N/A |\n",
            "+-------------------------------+----------------------+----------------------+\n",
            "                                                                               \n",
            "+-----------------------------------------------------------------------------+\n",
            "| Processes:                                                                  |\n",
            "|  GPU   GI   CI        PID   Type   Process name                  GPU Memory |\n",
            "|        ID   ID                                                   Usage      |\n",
            "|=============================================================================|\n",
            "|  No running processes found                                                 |\n",
            "+-----------------------------------------------------------------------------+\n"
          ],
          "name": "stdout"
        }
      ]
    },
    {
      "cell_type": "code",
      "metadata": {
        "colab": {
          "base_uri": "https://localhost:8080/"
        },
        "id": "iN450VNkZ890",
        "outputId": "8a9594b7-cb7a-4c5f-d12e-00e7424b55f0"
      },
      "source": [
        "!nvcc -V"
      ],
      "execution_count": null,
      "outputs": [
        {
          "output_type": "stream",
          "text": [
            "nvcc: NVIDIA (R) Cuda compiler driver\n",
            "Copyright (c) 2005-2020 NVIDIA Corporation\n",
            "Built on Wed_Jul_22_19:09:09_PDT_2020\n",
            "Cuda compilation tools, release 11.0, V11.0.221\n",
            "Build cuda_11.0_bu.TC445_37.28845127_0\n"
          ],
          "name": "stdout"
        }
      ]
    },
    {
      "cell_type": "markdown",
      "metadata": {
        "id": "PRVQBTNmEvBx"
      },
      "source": [
        "### torch, torchvision, torchtext, 버전 확인"
      ]
    },
    {
      "cell_type": "code",
      "metadata": {
        "colab": {
          "base_uri": "https://localhost:8080/"
        },
        "id": "6Nv3d3ZCbYyp",
        "outputId": "43f989ad-e37e-4010-ba77-b4789a98b692"
      },
      "source": [
        "import torch\n",
        "import torchvision\n",
        "import torchtext\n",
        "\n",
        "print(f'torch version: {torch.__version__}')\n",
        "print(f'torchvision version: {torchvision.__version__}')\n",
        "print(f'torchtext version: {torchtext.__version__}')\n"
      ],
      "execution_count": null,
      "outputs": [
        {
          "output_type": "stream",
          "text": [
            "torch version: 1.8.1+cu101\n",
            "torchvision version: 0.9.1+cu101\n",
            "torchtext version: 0.9.1\n"
          ],
          "name": "stdout"
        }
      ]
    },
    {
      "cell_type": "markdown",
      "metadata": {
        "id": "CtuDkYDZclmk"
      },
      "source": [
        "# Basic 4. nn module  \n",
        "  \n",
        "__modeling을 위하여 Tensorflow의 keras 프레임워크와 같이 pytorch에는 nn module이라는 high-level API 존재__"
      ]
    },
    {
      "cell_type": "code",
      "metadata": {
        "colab": {
          "base_uri": "https://localhost:8080/"
        },
        "id": "DO6Caupccmd9",
        "outputId": "3924f318-5f50-44a0-976b-060fbb304c55"
      },
      "source": [
        "# basic 3. 에서 작성했던 선형 회귀 모델을 nn module로 작성해보기 (+ nn.Functional)\n",
        "\n",
        "import torch\n",
        "import torch.nn as nn\n",
        "import torch.nn.functional as F\n",
        "import torch.optim as optim\n",
        "\n",
        "# 학습 device 설정\n",
        "torch.manual_seed=1120 # 시드 고정(CPU)\n",
        "if torch.cuda.is_available():\n",
        "  device_='cuda'\n",
        "  torch.cuda.manual_seed_all(1120) # 시드 고정(GPU)\n",
        "else:\n",
        "  device_='cpu'\n",
        "device = torch.device(device_)\n",
        "\n",
        "# Set Conditions & Hyper-parameters\n",
        "dtype_=torch.float\n",
        "R,C = 500,3 # 500개 데이터 샘플 , 각 데이터는 3-dim\n",
        "epochs=10000\n",
        "learning_rate=1e-3\n",
        "\n",
        "# Generate data, initialize weights & bias\n",
        "x = torch.randn((R,C),device=device, dtype=dtype_)\n",
        "y=torch.tensor([(2*sum(i)+1).item() for i in x],device=device, dtype=dtype_).view(-1,1)  # 목표식 y=2*x+1\n",
        "\n",
        "# Generate model\n",
        "torch.random.manual_seed(1120) # 파라미터 초기화 시드 고정은 별도로 해줘야함. 위의 시드 고정은 다른 무작위 수 생성에만 영향을 줌.\n",
        "model=nn.Linear(C,1).to(device_)\n",
        "#model.to_device()\n",
        "print('초기화된 가중치',list(model.parameters()))\n",
        "print(\"=\"*65)\n",
        "\n",
        "# Set Optimizer\n",
        "optimizer=optim.SGD(model.parameters(),lr=learning_rate)\n",
        "\n",
        "# Train\n",
        "for epoch in range(epochs):\n",
        "  \n",
        "  y_hat=model(x)        # Forward-pass\n",
        "  cost=F.mse_loss(y,y_hat)\n",
        "\n",
        "  optimizer.zero_grad() # reset gradient to avoid accumulation\n",
        "  cost.backward()       # compute gradient of each parameter\n",
        "  optimizer.step()      # update each parameter\n",
        "\n",
        "  if not epoch%1000:\n",
        "    print(f'{epoch+1}/{epochs} : Cost={cost}')\n",
        "\n",
        "print(\"=\"*65)\n",
        "print(f'목표치: w1=(2,2,2) , b1=1')\n",
        "print(f'학습결과: w1={[v.item() for v in model.weight[0]]} , b1={model.bias[0].item()}')\n"
      ],
      "execution_count": 45,
      "outputs": [
        {
          "output_type": "stream",
          "text": [
            "초기화된 가중치 [Parameter containing:\n",
            "tensor([[ 0.0367,  0.0082, -0.4146]], device='cuda:0', requires_grad=True), Parameter containing:\n",
            "tensor([0.2584], device='cuda:0', requires_grad=True)]\n",
            "=================================================================\n",
            "1/10000 : Cost=15.626565933227539\n",
            "1001/10000 : Cost=0.19387540221214294\n",
            "2001/10000 : Cost=0.0025998216588050127\n",
            "3001/10000 : Cost=3.8721154851373285e-05\n",
            "4001/10000 : Cost=6.508944920824433e-07\n",
            "5001/10000 : Cost=1.2670970050976393e-08\n",
            "6001/10000 : Cost=1.9142774032587795e-09\n",
            "7001/10000 : Cost=1.9142774032587795e-09\n",
            "8001/10000 : Cost=1.9142774032587795e-09\n",
            "9001/10000 : Cost=1.9142774032587795e-09\n",
            "=================================================================\n",
            "목표치: w1=(2,2,2) , b1=1\n",
            "학습결과: w1=[2.0, 1.9999690055847168, 1.9999727010726929] , b1=0.9999865889549255\n"
          ],
          "name": "stdout"
        }
      ]
    }
  ]
}