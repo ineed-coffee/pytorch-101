{
  "nbformat": 4,
  "nbformat_minor": 0,
  "metadata": {
    "colab": {
      "name": "pytorch basic2 : Tensor.ipynb",
      "provenance": [],
      "collapsed_sections": [],
      "authorship_tag": "ABX9TyNk0EPcET5ZZsDSO24C0ycy",
      "include_colab_link": true
    },
    "kernelspec": {
      "name": "python3",
      "display_name": "Python 3"
    },
    "language_info": {
      "name": "python"
    },
    "accelerator": "GPU"
  },
  "cells": [
    {
      "cell_type": "markdown",
      "metadata": {
        "id": "view-in-github",
        "colab_type": "text"
      },
      "source": [
        "<a href=\"https://colab.research.google.com/github/ineed-coffee/pytorch-101/blob/main/basic/pytorch_basic2_Tensor.ipynb\" target=\"_parent\"><img src=\"https://colab.research.google.com/assets/colab-badge.svg\" alt=\"Open In Colab\"/></a>"
      ]
    },
    {
      "cell_type": "code",
      "metadata": {
        "colab": {
          "base_uri": "https://localhost:8080/"
        },
        "id": "14_15jz1Y5ci",
        "outputId": "8f51b9f2-e3ff-44f1-d546-90c2d40fcea7"
      },
      "source": [
        "from google.colab import drive\n",
        "drive.mount('/content/drive')"
      ],
      "execution_count": null,
      "outputs": [
        {
          "output_type": "stream",
          "text": [
            "Mounted at /content/drive\n"
          ],
          "name": "stdout"
        }
      ]
    },
    {
      "cell_type": "markdown",
      "metadata": {
        "id": "b1lJAliTC-36"
      },
      "source": [
        "### 연결된 그래픽 카드와 CUDA 버전 확인하기"
      ]
    },
    {
      "cell_type": "code",
      "metadata": {
        "colab": {
          "base_uri": "https://localhost:8080/"
        },
        "id": "fuew_O1NDW3M",
        "outputId": "5e0539bc-3de2-405d-8cd7-471cbba89055"
      },
      "source": [
        "!nvidia-smi"
      ],
      "execution_count": null,
      "outputs": [
        {
          "output_type": "stream",
          "text": [
            "Sun Apr 11 07:45:10 2021       \n",
            "+-----------------------------------------------------------------------------+\n",
            "| NVIDIA-SMI 460.67       Driver Version: 460.32.03    CUDA Version: 11.2     |\n",
            "|-------------------------------+----------------------+----------------------+\n",
            "| GPU  Name        Persistence-M| Bus-Id        Disp.A | Volatile Uncorr. ECC |\n",
            "| Fan  Temp  Perf  Pwr:Usage/Cap|         Memory-Usage | GPU-Util  Compute M. |\n",
            "|                               |                      |               MIG M. |\n",
            "|===============================+======================+======================|\n",
            "|   0  Tesla T4            Off  | 00000000:00:04.0 Off |                    0 |\n",
            "| N/A   68C    P8    11W /  70W |      0MiB / 15109MiB |      0%      Default |\n",
            "|                               |                      |                  N/A |\n",
            "+-------------------------------+----------------------+----------------------+\n",
            "                                                                               \n",
            "+-----------------------------------------------------------------------------+\n",
            "| Processes:                                                                  |\n",
            "|  GPU   GI   CI        PID   Type   Process name                  GPU Memory |\n",
            "|        ID   ID                                                   Usage      |\n",
            "|=============================================================================|\n",
            "|  No running processes found                                                 |\n",
            "+-----------------------------------------------------------------------------+\n"
          ],
          "name": "stdout"
        }
      ]
    },
    {
      "cell_type": "code",
      "metadata": {
        "colab": {
          "base_uri": "https://localhost:8080/"
        },
        "id": "iN450VNkZ890",
        "outputId": "8a9594b7-cb7a-4c5f-d12e-00e7424b55f0"
      },
      "source": [
        "!nvcc -V"
      ],
      "execution_count": null,
      "outputs": [
        {
          "output_type": "stream",
          "text": [
            "nvcc: NVIDIA (R) Cuda compiler driver\n",
            "Copyright (c) 2005-2020 NVIDIA Corporation\n",
            "Built on Wed_Jul_22_19:09:09_PDT_2020\n",
            "Cuda compilation tools, release 11.0, V11.0.221\n",
            "Build cuda_11.0_bu.TC445_37.28845127_0\n"
          ],
          "name": "stdout"
        }
      ]
    },
    {
      "cell_type": "markdown",
      "metadata": {
        "id": "PRVQBTNmEvBx"
      },
      "source": [
        "### torch, torchvision, torchtext, 버전 확인"
      ]
    },
    {
      "cell_type": "code",
      "metadata": {
        "colab": {
          "base_uri": "https://localhost:8080/"
        },
        "id": "6Nv3d3ZCbYyp",
        "outputId": "43f989ad-e37e-4010-ba77-b4789a98b692"
      },
      "source": [
        "import torch\n",
        "import torchvision\n",
        "import torchtext\n",
        "\n",
        "print(f'torch version: {torch.__version__}')\n",
        "print(f'torchvision version: {torchvision.__version__}')\n",
        "print(f'torchtext version: {torchtext.__version__}')\n"
      ],
      "execution_count": 28,
      "outputs": [
        {
          "output_type": "stream",
          "text": [
            "torch version: 1.8.1+cu101\n",
            "torchvision version: 0.9.1+cu101\n",
            "torchtext version: 0.9.1\n"
          ],
          "name": "stdout"
        }
      ]
    },
    {
      "cell_type": "markdown",
      "metadata": {
        "id": "EgnhL2gHHUz-"
      },
      "source": [
        "# Basic 2. Tensor  \n",
        "Tensor vs. Ndarray"
      ]
    },
    {
      "cell_type": "code",
      "metadata": {
        "id": "SIbOE4RhHod2"
      },
      "source": [
        "import torch\n",
        "import numpy as np"
      ],
      "execution_count": 29,
      "outputs": []
    },
    {
      "cell_type": "code",
      "metadata": {
        "colab": {
          "base_uri": "https://localhost:8080/"
        },
        "id": "UJqfHpUXHyA3",
        "outputId": "5b08d8a5-fe27-4aad-cda3-b3d0b9977df5"
      },
      "source": [
        "# make random 2D-array data\n",
        "import random as r\n",
        "pick=lambda :r.randint(5,10)\n",
        "R,C=pick(),pick()\n",
        "base = [[r.randint(0,100) for __ in range(C)] for _ in range(R)]\n",
        "                                          \n",
        "print('random base data')\n",
        "for row in base:\n",
        "  print(*row)"
      ],
      "execution_count": 30,
      "outputs": [
        {
          "output_type": "stream",
          "text": [
            "random base data\n",
            "60 66 29 88 12 84 1 54 45\n",
            "63 31 25 40 61 40 65 27 68\n",
            "58 33 31 62 89 46 28 49 67\n",
            "48 39 25 57 62 81 7 98 4\n",
            "68 15 51 47 64 1 19 11 14\n",
            "44 41 51 72 44 73 59 79 54\n",
            "82 5 50 71 60 25 88 1 14\n",
            "79 74 71 78 78 40 71 44 47\n",
            "2 84 37 28 33 8 56 54 80\n",
            "18 31 2 69 59 66 34 51 14\n"
          ],
          "name": "stdout"
        }
      ]
    },
    {
      "cell_type": "code",
      "metadata": {
        "colab": {
          "base_uri": "https://localhost:8080/"
        },
        "id": "4w-ZmrX3eRE8",
        "outputId": "98e5243d-0115-4007-8923-cf00c5e14999"
      },
      "source": [
        "as_ndarray = np.array(base)\n",
        "as_tensor  = torch.tensor(base,dtype=torch.int)\n",
        "\n",
        "print(\"casted to ndarray:\")\n",
        "print(as_ndarray)\n",
        "print()\n",
        "print(\"=\"*50)\n",
        "print()\n",
        "print(\"casted to tensor:\")\n",
        "print(as_tensor)"
      ],
      "execution_count": 31,
      "outputs": [
        {
          "output_type": "stream",
          "text": [
            "casted to ndarray:\n",
            "[[60 66 29 88 12 84  1 54 45]\n",
            " [63 31 25 40 61 40 65 27 68]\n",
            " [58 33 31 62 89 46 28 49 67]\n",
            " [48 39 25 57 62 81  7 98  4]\n",
            " [68 15 51 47 64  1 19 11 14]\n",
            " [44 41 51 72 44 73 59 79 54]\n",
            " [82  5 50 71 60 25 88  1 14]\n",
            " [79 74 71 78 78 40 71 44 47]\n",
            " [ 2 84 37 28 33  8 56 54 80]\n",
            " [18 31  2 69 59 66 34 51 14]]\n",
            "\n",
            "==================================================\n",
            "\n",
            "casted to tensor:\n",
            "tensor([[60, 66, 29, 88, 12, 84,  1, 54, 45],\n",
            "        [63, 31, 25, 40, 61, 40, 65, 27, 68],\n",
            "        [58, 33, 31, 62, 89, 46, 28, 49, 67],\n",
            "        [48, 39, 25, 57, 62, 81,  7, 98,  4],\n",
            "        [68, 15, 51, 47, 64,  1, 19, 11, 14],\n",
            "        [44, 41, 51, 72, 44, 73, 59, 79, 54],\n",
            "        [82,  5, 50, 71, 60, 25, 88,  1, 14],\n",
            "        [79, 74, 71, 78, 78, 40, 71, 44, 47],\n",
            "        [ 2, 84, 37, 28, 33,  8, 56, 54, 80],\n",
            "        [18, 31,  2, 69, 59, 66, 34, 51, 14]], dtype=torch.int32)\n"
          ],
          "name": "stdout"
        }
      ]
    },
    {
      "cell_type": "markdown",
      "metadata": {
        "id": "YKJEXCXIeRmv"
      },
      "source": [
        "### Dimension, Shape   \n",
        "> np.reshape  == torch.view  \n"
      ]
    },
    {
      "cell_type": "code",
      "metadata": {
        "colab": {
          "base_uri": "https://localhost:8080/"
        },
        "id": "QXShb3SkeR2n",
        "outputId": "446f6db6-e603-4824-95e2-15e3ab0b845c"
      },
      "source": [
        "print(f'shape of as_tensor, {as_tensor.shape}') # or .size()\n",
        "for row in as_tensor:\n",
        "  print(row)\n",
        "print()\n",
        "reshaped_tensor=as_tensor.view(3,2,-1)\n",
        "print(f'shape of reshaped_tensor, {reshaped_tensor.shape}')\n",
        "for row in reshaped_tensor:\n",
        "  print(row)"
      ],
      "execution_count": 32,
      "outputs": [
        {
          "output_type": "stream",
          "text": [
            "shape of as_tensor, torch.Size([10, 9])\n",
            "tensor([60, 66, 29, 88, 12, 84,  1, 54, 45], dtype=torch.int32)\n",
            "tensor([63, 31, 25, 40, 61, 40, 65, 27, 68], dtype=torch.int32)\n",
            "tensor([58, 33, 31, 62, 89, 46, 28, 49, 67], dtype=torch.int32)\n",
            "tensor([48, 39, 25, 57, 62, 81,  7, 98,  4], dtype=torch.int32)\n",
            "tensor([68, 15, 51, 47, 64,  1, 19, 11, 14], dtype=torch.int32)\n",
            "tensor([44, 41, 51, 72, 44, 73, 59, 79, 54], dtype=torch.int32)\n",
            "tensor([82,  5, 50, 71, 60, 25, 88,  1, 14], dtype=torch.int32)\n",
            "tensor([79, 74, 71, 78, 78, 40, 71, 44, 47], dtype=torch.int32)\n",
            "tensor([ 2, 84, 37, 28, 33,  8, 56, 54, 80], dtype=torch.int32)\n",
            "tensor([18, 31,  2, 69, 59, 66, 34, 51, 14], dtype=torch.int32)\n",
            "\n",
            "shape of reshaped_tensor, torch.Size([3, 2, 15])\n",
            "tensor([[60, 66, 29, 88, 12, 84,  1, 54, 45, 63, 31, 25, 40, 61, 40],\n",
            "        [65, 27, 68, 58, 33, 31, 62, 89, 46, 28, 49, 67, 48, 39, 25]],\n",
            "       dtype=torch.int32)\n",
            "tensor([[57, 62, 81,  7, 98,  4, 68, 15, 51, 47, 64,  1, 19, 11, 14],\n",
            "        [44, 41, 51, 72, 44, 73, 59, 79, 54, 82,  5, 50, 71, 60, 25]],\n",
            "       dtype=torch.int32)\n",
            "tensor([[88,  1, 14, 79, 74, 71, 78, 78, 40, 71, 44, 47,  2, 84, 37],\n",
            "        [28, 33,  8, 56, 54, 80, 18, 31,  2, 69, 59, 66, 34, 51, 14]],\n",
            "       dtype=torch.int32)\n"
          ],
          "name": "stdout"
        }
      ]
    },
    {
      "cell_type": "markdown",
      "metadata": {
        "id": "gXJReSitAnJD"
      },
      "source": [
        "> np.new_axis == torch.unsqeeze"
      ]
    },
    {
      "cell_type": "code",
      "metadata": {
        "colab": {
          "base_uri": "https://localhost:8080/"
        },
        "id": "r-PJSzhO__7B",
        "outputId": "676918fc-0a69-4b38-a468-bd986cea0d5a"
      },
      "source": [
        "print(f'shape of as_tensor, {as_tensor.shape}')\n",
        "for row in as_tensor:\n",
        "  print(row)\n",
        "print()\n",
        "unsqeezed_tensor=as_tensor.unsqueeze(1)\n",
        "print(f'shape of reshaped_tensor, {unsqeezed_tensor.shape}')\n",
        "for row in unsqeezed_tensor:\n",
        "  print(row)"
      ],
      "execution_count": 33,
      "outputs": [
        {
          "output_type": "stream",
          "text": [
            "shape of as_tensor, torch.Size([10, 9])\n",
            "tensor([60, 66, 29, 88, 12, 84,  1, 54, 45], dtype=torch.int32)\n",
            "tensor([63, 31, 25, 40, 61, 40, 65, 27, 68], dtype=torch.int32)\n",
            "tensor([58, 33, 31, 62, 89, 46, 28, 49, 67], dtype=torch.int32)\n",
            "tensor([48, 39, 25, 57, 62, 81,  7, 98,  4], dtype=torch.int32)\n",
            "tensor([68, 15, 51, 47, 64,  1, 19, 11, 14], dtype=torch.int32)\n",
            "tensor([44, 41, 51, 72, 44, 73, 59, 79, 54], dtype=torch.int32)\n",
            "tensor([82,  5, 50, 71, 60, 25, 88,  1, 14], dtype=torch.int32)\n",
            "tensor([79, 74, 71, 78, 78, 40, 71, 44, 47], dtype=torch.int32)\n",
            "tensor([ 2, 84, 37, 28, 33,  8, 56, 54, 80], dtype=torch.int32)\n",
            "tensor([18, 31,  2, 69, 59, 66, 34, 51, 14], dtype=torch.int32)\n",
            "\n",
            "shape of reshaped_tensor, torch.Size([10, 1, 9])\n",
            "tensor([[60, 66, 29, 88, 12, 84,  1, 54, 45]], dtype=torch.int32)\n",
            "tensor([[63, 31, 25, 40, 61, 40, 65, 27, 68]], dtype=torch.int32)\n",
            "tensor([[58, 33, 31, 62, 89, 46, 28, 49, 67]], dtype=torch.int32)\n",
            "tensor([[48, 39, 25, 57, 62, 81,  7, 98,  4]], dtype=torch.int32)\n",
            "tensor([[68, 15, 51, 47, 64,  1, 19, 11, 14]], dtype=torch.int32)\n",
            "tensor([[44, 41, 51, 72, 44, 73, 59, 79, 54]], dtype=torch.int32)\n",
            "tensor([[82,  5, 50, 71, 60, 25, 88,  1, 14]], dtype=torch.int32)\n",
            "tensor([[79, 74, 71, 78, 78, 40, 71, 44, 47]], dtype=torch.int32)\n",
            "tensor([[ 2, 84, 37, 28, 33,  8, 56, 54, 80]], dtype=torch.int32)\n",
            "tensor([[18, 31,  2, 69, 59, 66, 34, 51, 14]], dtype=torch.int32)\n"
          ],
          "name": "stdout"
        }
      ]
    },
    {
      "cell_type": "markdown",
      "metadata": {
        "id": "I4_Tta-beSAI"
      },
      "source": [
        "### Concatenation , Stacking"
      ]
    },
    {
      "cell_type": "markdown",
      "metadata": {
        "id": "dH-rcsMIBdul"
      },
      "source": [
        "> np.concat([] , axis= ) == torch.cat([] , dim= )"
      ]
    },
    {
      "cell_type": "code",
      "metadata": {
        "colab": {
          "base_uri": "https://localhost:8080/"
        },
        "id": "3ADr496heSMn",
        "outputId": "ca703ac5-371b-4948-b756-d3c7219e158e"
      },
      "source": [
        "x = torch.Tensor([[1, 2], [3, 4]])\n",
        "y = torch.Tensor([[5, 6], [7, 8]])\n",
        "\n",
        "dim0_concat = torch.cat([x,y],dim=0) # 행이 늘어난다.\n",
        "dim1_concat = torch.cat([x,y],dim=1) # 열이 늘어난다.\n",
        "\n",
        "print(\"concat with dim=0\")\n",
        "for row in dim0_concat:\n",
        "  print(row)\n",
        "print()\n",
        "print(\"concat with dim=1\")\n",
        "for row in dim1_concat:\n",
        "  print(row)"
      ],
      "execution_count": 34,
      "outputs": [
        {
          "output_type": "stream",
          "text": [
            "concat with dim=0\n",
            "tensor([1., 2.])\n",
            "tensor([3., 4.])\n",
            "tensor([5., 6.])\n",
            "tensor([7., 8.])\n",
            "\n",
            "concat with dim=1\n",
            "tensor([1., 2., 5., 6.])\n",
            "tensor([3., 4., 7., 8.])\n"
          ],
          "name": "stdout"
        }
      ]
    },
    {
      "cell_type": "markdown",
      "metadata": {
        "id": "XY89px-FCNMG"
      },
      "source": [
        "> torch.stack() : unsqeeze 작업을 자동으로 수행 가능."
      ]
    },
    {
      "cell_type": "code",
      "metadata": {
        "colab": {
          "base_uri": "https://localhost:8080/"
        },
        "id": "TlHAZig6CNrk",
        "outputId": "d319254f-b819-432a-e237-ed61a343fcd4"
      },
      "source": [
        "x = torch.FloatTensor([1, 4])\n",
        "y = torch.FloatTensor([2, 5])\n",
        "z = torch.FloatTensor([3, 6])\n",
        "k=torch.stack([x,y,z],axis=0)\n",
        "print(k)\n",
        "print(k.shape)"
      ],
      "execution_count": null,
      "outputs": [
        {
          "output_type": "stream",
          "text": [
            "tensor([[1., 4.],\n",
            "        [2., 5.],\n",
            "        [3., 6.]])\n",
            "torch.Size([3, 2])\n"
          ],
          "name": "stdout"
        }
      ]
    },
    {
      "cell_type": "markdown",
      "metadata": {
        "id": "h6ZDCr8ueSVT"
      },
      "source": [
        "### ones_like , zeros_like\n",
        "> 행렬 shape을 참고하여 0이나 1로 초기화 시키는 함수, numpy 와 비슷하다."
      ]
    },
    {
      "cell_type": "code",
      "metadata": {
        "colab": {
          "base_uri": "https://localhost:8080/"
        },
        "id": "zo9s4SEqeSb6",
        "outputId": "5b3a9163-cf7c-495e-9e61-b598115615bc"
      },
      "source": [
        "sample = torch.Tensor([[0, 1, 2], [2, 1, 0]])\n",
        "\n",
        "print(torch.ones_like(sample))\n",
        "print()\n",
        "print(torch.zeros_like(sample))"
      ],
      "execution_count": null,
      "outputs": [
        {
          "output_type": "stream",
          "text": [
            "tensor([[1., 1., 1.],\n",
            "        [1., 1., 1.]])\n",
            "\n",
            "tensor([[0., 0., 0.],\n",
            "        [0., 0., 0.]])\n"
          ],
          "name": "stdout"
        }
      ]
    },
    {
      "cell_type": "markdown",
      "metadata": {
        "id": "t7rIXPCoDxai"
      },
      "source": [
        "### In-place Operation (중요! ★)\n",
        "> C의 ++ 나, Python의 += 연산 같은 덮어쓰는 연산을 수행하며 그 `기록 정보`를 유지하고 있는것이 특징이다.  \n",
        "(이후 인공신경망 생성시에 역전파의 디버깅이 가능한 구조이다.)"
      ]
    },
    {
      "cell_type": "code",
      "metadata": {
        "colab": {
          "base_uri": "https://localhost:8080/"
        },
        "id": "ByKnj4NQEMzN",
        "outputId": "c210538c-3d6c-44a7-ab63-103ddf4a598d"
      },
      "source": [
        "sample = torch.Tensor([[1, 2], [3, 4]])\n",
        "\n",
        "print(sample.mul(2))\n",
        "print(sample) # sample 자료는 변하지 않음\n",
        "print()\n",
        "# 어떤 연산이든 뒤에 언더바(_)를 추가하면 In-place operation이 된다.\n",
        "print(sample.mul_(2))\n",
        "print(sample)"
      ],
      "execution_count": null,
      "outputs": [
        {
          "output_type": "stream",
          "text": [
            "tensor([[2., 4.],\n",
            "        [6., 8.]])\n",
            "tensor([[1., 2.],\n",
            "        [3., 4.]])\n",
            "\n",
            "tensor([[2., 4.],\n",
            "        [6., 8.]])\n",
            "tensor([[2., 4.],\n",
            "        [6., 8.]])\n"
          ],
          "name": "stdout"
        }
      ]
    }
  ]
}