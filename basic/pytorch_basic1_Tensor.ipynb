{
  "nbformat": 4,
  "nbformat_minor": 0,
  "metadata": {
    "colab": {
      "name": "pytorch basic1 : Tensor.ipynb",
      "provenance": [],
      "collapsed_sections": [],
      "authorship_tag": "ABX9TyP+WlFn+eUHAVWTEd1NQAN3",
      "include_colab_link": true
    },
    "kernelspec": {
      "name": "python3",
      "display_name": "Python 3"
    },
    "language_info": {
      "name": "python"
    }
  },
  "cells": [
    {
      "cell_type": "markdown",
      "metadata": {
        "id": "view-in-github",
        "colab_type": "text"
      },
      "source": [
        "<a href=\"https://colab.research.google.com/github/ineed-coffee/pytorch-101/blob/main/basic/pytorch_basic1_Tensor.ipynb\" target=\"_parent\"><img src=\"https://colab.research.google.com/assets/colab-badge.svg\" alt=\"Open In Colab\"/></a>"
      ]
    },
    {
      "cell_type": "code",
      "metadata": {
        "colab": {
          "base_uri": "https://localhost:8080/"
        },
        "id": "14_15jz1Y5ci",
        "outputId": "134c87d7-08c3-414c-8e98-605a4c6072e0"
      },
      "source": [
        "from google.colab import drive\n",
        "drive.mount('/content/drive')"
      ],
      "execution_count": null,
      "outputs": [
        {
          "output_type": "stream",
          "text": [
            "Mounted at /content/drive\n"
          ],
          "name": "stdout"
        }
      ]
    },
    {
      "cell_type": "markdown",
      "metadata": {
        "id": "b1lJAliTC-36"
      },
      "source": [
        "### 연결된 그래픽 카드와 CUDA 버전 확인하기"
      ]
    },
    {
      "cell_type": "code",
      "metadata": {
        "colab": {
          "base_uri": "https://localhost:8080/"
        },
        "id": "fuew_O1NDW3M",
        "outputId": "a79a69f1-52be-4dc2-8d89-b243e0606f5c"
      },
      "source": [
        "!nvidia-smi"
      ],
      "execution_count": null,
      "outputs": [
        {
          "output_type": "stream",
          "text": [
            "Wed Apr  7 11:23:37 2021       \n",
            "+-----------------------------------------------------------------------------+\n",
            "| NVIDIA-SMI 460.67       Driver Version: 460.32.03    CUDA Version: 11.2     |\n",
            "|-------------------------------+----------------------+----------------------+\n",
            "| GPU  Name        Persistence-M| Bus-Id        Disp.A | Volatile Uncorr. ECC |\n",
            "| Fan  Temp  Perf  Pwr:Usage/Cap|         Memory-Usage | GPU-Util  Compute M. |\n",
            "|                               |                      |               MIG M. |\n",
            "|===============================+======================+======================|\n",
            "|   0  Tesla K80           Off  | 00000000:00:04.0 Off |                    0 |\n",
            "| N/A   69C    P8    34W / 149W |      0MiB / 11441MiB |      0%      Default |\n",
            "|                               |                      |                  N/A |\n",
            "+-------------------------------+----------------------+----------------------+\n",
            "                                                                               \n",
            "+-----------------------------------------------------------------------------+\n",
            "| Processes:                                                                  |\n",
            "|  GPU   GI   CI        PID   Type   Process name                  GPU Memory |\n",
            "|        ID   ID                                                   Usage      |\n",
            "|=============================================================================|\n",
            "|  No running processes found                                                 |\n",
            "+-----------------------------------------------------------------------------+\n"
          ],
          "name": "stdout"
        }
      ]
    },
    {
      "cell_type": "code",
      "metadata": {
        "colab": {
          "base_uri": "https://localhost:8080/"
        },
        "id": "iN450VNkZ890",
        "outputId": "7a7fe938-4154-4fc7-b0b5-4b724fc83403"
      },
      "source": [
        "!nvcc -V"
      ],
      "execution_count": null,
      "outputs": [
        {
          "output_type": "stream",
          "text": [
            "nvcc: NVIDIA (R) Cuda compiler driver\n",
            "Copyright (c) 2005-2020 NVIDIA Corporation\n",
            "Built on Wed_Jul_22_19:09:09_PDT_2020\n",
            "Cuda compilation tools, release 11.0, V11.0.221\n",
            "Build cuda_11.0_bu.TC445_37.28845127_0\n"
          ],
          "name": "stdout"
        }
      ]
    },
    {
      "cell_type": "markdown",
      "metadata": {
        "id": "PRVQBTNmEvBx"
      },
      "source": [
        "### torch, torchvision, torchtext, 버전 확인"
      ]
    },
    {
      "cell_type": "code",
      "metadata": {
        "colab": {
          "base_uri": "https://localhost:8080/"
        },
        "id": "6Nv3d3ZCbYyp",
        "outputId": "e16c8d89-39ed-499a-c2bb-6f5ad3de42fb"
      },
      "source": [
        "import torch\n",
        "import torchvision\n",
        "import torchtext\n",
        "\n",
        "print(f'torch version: {torch.__version__}')\n",
        "print(f'torchvision version: {torchvision.__version__}')\n",
        "print(f'torchtext version: {torchtext.__version__}')\n"
      ],
      "execution_count": null,
      "outputs": [
        {
          "output_type": "stream",
          "text": [
            "torch version: 1.8.1+cu101\n",
            "torchvision version: 0.9.1+cu101\n",
            "torchtext version: 0.9.1\n"
          ],
          "name": "stdout"
        }
      ]
    },
    {
      "cell_type": "markdown",
      "metadata": {
        "id": "EgnhL2gHHUz-"
      },
      "source": [
        "# Basic 1. Tensor  \n",
        "Tensor vs. Ndarray"
      ]
    },
    {
      "cell_type": "code",
      "metadata": {
        "id": "SIbOE4RhHod2"
      },
      "source": [
        "import torch\n",
        "import numpy as np"
      ],
      "execution_count": null,
      "outputs": []
    },
    {
      "cell_type": "code",
      "metadata": {
        "colab": {
          "base_uri": "https://localhost:8080/"
        },
        "id": "UJqfHpUXHyA3",
        "outputId": "984a3ec4-441a-41bb-ed1a-d8430d0e4250"
      },
      "source": [
        "# make random 2D-array data\n",
        "import random as r\n",
        "pick=lambda :r.randint(5,10)\n",
        "R,C=pick(),pick()\n",
        "base = [[r.randint(0,100) for __ in range(C)] for _ in range(R)]\n",
        "                                          \n",
        "print('random base data')\n",
        "for row in base:\n",
        "  print(*row)"
      ],
      "execution_count": null,
      "outputs": [
        {
          "output_type": "stream",
          "text": [
            "random base data\n",
            "46 13 8 58 43 78 52 97 29 10\n",
            "15 51 70 14 3 16 88 29 71 58\n",
            "86 63 96 83 2 80 56 18 63 70\n",
            "48 88 52 84 79 70 72 50 48 97\n",
            "75 67 59 41 89 18 67 85 46 12\n",
            "39 31 16 33 91 0 14 46 41 27\n",
            "65 18 73 77 63 69 42 42 90 49\n",
            "90 49 8 19 47 60 77 64 29 93\n"
          ],
          "name": "stdout"
        }
      ]
    },
    {
      "cell_type": "code",
      "metadata": {
        "colab": {
          "base_uri": "https://localhost:8080/"
        },
        "id": "4w-ZmrX3eRE8",
        "outputId": "f7e6d6c1-2555-4197-c348-9517c745b8b3"
      },
      "source": [
        "as_ndarray = np.array(base)\n",
        "as_tensor  = torch.tensor(base,dtype=torch.int)\n",
        "\n",
        "print(\"casted to ndarray:\")\n",
        "print(as_ndarray)\n",
        "print()\n",
        "print(\"=\"*50)\n",
        "print()\n",
        "print(\"casted to tensor:\")\n",
        "print(as_tensor)"
      ],
      "execution_count": null,
      "outputs": [
        {
          "output_type": "stream",
          "text": [
            "casted to ndarray:\n",
            "[[46 13  8 58 43 78 52 97 29 10]\n",
            " [15 51 70 14  3 16 88 29 71 58]\n",
            " [86 63 96 83  2 80 56 18 63 70]\n",
            " [48 88 52 84 79 70 72 50 48 97]\n",
            " [75 67 59 41 89 18 67 85 46 12]\n",
            " [39 31 16 33 91  0 14 46 41 27]\n",
            " [65 18 73 77 63 69 42 42 90 49]\n",
            " [90 49  8 19 47 60 77 64 29 93]]\n",
            "\n",
            "==================================================\n",
            "\n",
            "casted to tensor:\n",
            "tensor([[46, 13,  8, 58, 43, 78, 52, 97, 29, 10],\n",
            "        [15, 51, 70, 14,  3, 16, 88, 29, 71, 58],\n",
            "        [86, 63, 96, 83,  2, 80, 56, 18, 63, 70],\n",
            "        [48, 88, 52, 84, 79, 70, 72, 50, 48, 97],\n",
            "        [75, 67, 59, 41, 89, 18, 67, 85, 46, 12],\n",
            "        [39, 31, 16, 33, 91,  0, 14, 46, 41, 27],\n",
            "        [65, 18, 73, 77, 63, 69, 42, 42, 90, 49],\n",
            "        [90, 49,  8, 19, 47, 60, 77, 64, 29, 93]], dtype=torch.int32)\n"
          ],
          "name": "stdout"
        }
      ]
    },
    {
      "cell_type": "markdown",
      "metadata": {
        "id": "YKJEXCXIeRmv"
      },
      "source": [
        "### Dimension, Shape  \n",
        "> np.ndim == torch.dim()  \n",
        "> np.shape == torch.shape\n"
      ]
    },
    {
      "cell_type": "code",
      "metadata": {
        "colab": {
          "base_uri": "https://localhost:8080/"
        },
        "id": "QXShb3SkeR2n",
        "outputId": "9413e7f3-84f3-4d68-a853-79c05d0ae395"
      },
      "source": [
        "print(f'dimension of as_ndarray, {as_ndarray.ndim}')\n",
        "print(f'dimension of as_tensor, {as_tensor.dim()}')\n",
        "print()\n",
        "print(f'shape of as_ndarray, {as_ndarray.shape}')\n",
        "print(f'shape of as_tensor, {as_tensor.shape}') # or .size()"
      ],
      "execution_count": null,
      "outputs": [
        {
          "output_type": "stream",
          "text": [
            "dimension of as_ndarray, 2\n",
            "dimension of as_tensor, 2\n",
            "\n",
            "shape of as_ndarray, (8, 10)\n",
            "shape of as_tensor, torch.Size([8, 10])\n"
          ],
          "name": "stdout"
        }
      ]
    },
    {
      "cell_type": "markdown",
      "metadata": {
        "id": "I4_Tta-beSAI"
      },
      "source": [
        "### Broadcasting ndarray == Broadcasting Tensor"
      ]
    },
    {
      "cell_type": "code",
      "metadata": {
        "colab": {
          "base_uri": "https://localhost:8080/"
        },
        "id": "3ADr496heSMn",
        "outputId": "c5a69f8a-5ca5-4623-ccd2-591add50dcac"
      },
      "source": [
        "a=[[1,2,],\n",
        "   [3,4]]\n",
        "b=[5,6]\n",
        "\n",
        "na,nb=np.array(a),np.array(b)\n",
        "nc=na+nb\n",
        "print(\"Broadcasting in ndarray\")\n",
        "print(nc)\n",
        "print()\n",
        "print(\"=\"*50)\n",
        "ta,tb=torch.tensor(a),torch.tensor(b)\n",
        "tc=ta+tb\n",
        "print(\"Broadcasting in tensor\")\n",
        "print(tc)"
      ],
      "execution_count": null,
      "outputs": [
        {
          "output_type": "stream",
          "text": [
            "Broadcasting in ndarray\n",
            "[[ 6  8]\n",
            " [ 8 10]]\n",
            "\n",
            "==================================================\n",
            "Broadcasting in tensor\n",
            "tensor([[ 6,  8],\n",
            "        [ 8, 10]])\n"
          ],
          "name": "stdout"
        }
      ]
    },
    {
      "cell_type": "markdown",
      "metadata": {
        "id": "h6ZDCr8ueSVT"
      },
      "source": [
        "### Numpy `axis` parameter == Torch `dim` paratemer"
      ]
    },
    {
      "cell_type": "code",
      "metadata": {
        "colab": {
          "base_uri": "https://localhost:8080/"
        },
        "id": "zo9s4SEqeSb6",
        "outputId": "b3b0e60a-2681-4790-817b-6b9fe6a0fc77"
      },
      "source": [
        "a=[[1.,2.,3.],\n",
        "   [4.,5.,6.]]\n",
        "\n",
        "ta=torch.tensor(a)\n",
        "\n",
        "print(\"dim=1 적용\")\n",
        "print(ta.mean(dim=1))\n",
        "print()\n",
        "print(\"dim=0 적용\")\n",
        "print(ta.sum(dim=0))\n",
        "print()\n",
        "print(\"dim=-1 적용 (마지막 차원이 삭제되는 효과라 생각하면 된다.)\")\n",
        "print(ta.max(dim=-1)) # tensor.max() 는 (max_value,arg max) 의 두 정보를 동시에 반환한다.\n",
        "print(f'max values: {ta.max(dim=-1)[0]}')\n",
        "print(f'max indexes: {ta.max(dim=-1)[1]}')"
      ],
      "execution_count": null,
      "outputs": [
        {
          "output_type": "stream",
          "text": [
            "dim=1 적용\n",
            "tensor([2., 5.])\n",
            "\n",
            "dim=0 적용\n",
            "tensor([5., 7., 9.])\n",
            "\n",
            "dim=-1 적용 (마지막 차원이 삭제되는 효과라 생각하면 된다.)\n",
            "torch.return_types.max(\n",
            "values=tensor([3., 6.]),\n",
            "indices=tensor([2, 2]))\n",
            "max values: tensor([3., 6.])\n",
            "max indexes: tensor([2, 2])\n"
          ],
          "name": "stdout"
        }
      ]
    }
  ]
}